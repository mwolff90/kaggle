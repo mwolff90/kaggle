{
 "cells": [
  {
   "cell_type": "markdown",
   "source": [
    "# Titanic\n",
    "This is an annotated solution to the \"Titanic competition\" on Kaggle.\n",
    "At first start by importing libraries probably needed for the solution of this problem.\n",
    "Pandas is a library providing several useful structures and operators for datascience applications.\n",
    "Matplotlib is a library providing several plotting functions which are more detailed than regular plots provided by python base."
   ],
   "metadata": {
    "collapsed": false,
    "pycharm": {
     "name": "#%% md\n"
    }
   }
  },
  {
   "cell_type": "code",
   "execution_count": 1,
   "outputs": [],
   "source": [
    "# data analysis\n",
    "import pandas as pd\n",
    "import numpy as np\n",
    "\n",
    "# visualization\n",
    "import matplotlib.pyplot as plt\n",
    "import seaborn as sns\n",
    "\n",
    "# machine learning\n",
    "from sklearn.linear_model import LogisticRegression\n",
    "from sklearn.svm import SVC, LinearSVC\n",
    "from sklearn.ensemble import RandomForestClassifier\n",
    "from sklearn.neighbors import KNeighborsClassifier\n",
    "from sklearn.naive_bayes import GaussianNB\n",
    "from sklearn.linear_model import Perceptron\n",
    "from sklearn.linear_model import SGDClassifier\n",
    "from sklearn.tree import DecisionTreeClassifier\n",
    "\n",
    "# misc\n",
    "from os.path import exists"
   ],
   "metadata": {
    "collapsed": false,
    "pycharm": {
     "name": "#%%\n"
    }
   }
  },
  {
   "cell_type": "markdown",
   "source": [
    "## Load data\n",
    "Load data from hdd or download it into local repository."
   ],
   "metadata": {
    "collapsed": false,
    "pycharm": {
     "name": "#%% md\n"
    }
   }
  },
  {
   "cell_type": "code",
   "execution_count": null,
   "outputs": [],
   "source": [
    "train_data_file = \"./data/train.csv\"\n",
    "test_data_file = \"./data/test.csv\"\n",
    "\n",
    "\n",
    "train_file_exists = exists(train_data_file)\n",
    "if train_file_exists:\n",
    "    training = pd.read_csv(train_data_file)\n",
    "else:\n",
    "    # download file\n",
    "\n",
    "\n",
    "test_file_exists = exists(test_data_file)\n",
    "if test_file_exists:\n",
    "    test = pd.read_csv(test_data_file)\n",
    "else:\n",
    "    # download file\n",
    "\n",
    "pd.read_csv()"
   ],
   "metadata": {
    "collapsed": false,
    "pycharm": {
     "name": "#%%\n"
    }
   }
  }
 ],
 "metadata": {
  "kernelspec": {
   "display_name": "Python 3",
   "language": "python",
   "name": "python3"
  },
  "language_info": {
   "codemirror_mode": {
    "name": "ipython",
    "version": 2
   },
   "file_extension": ".py",
   "mimetype": "text/x-python",
   "name": "python",
   "nbconvert_exporter": "python",
   "pygments_lexer": "ipython2",
   "version": "2.7.6"
  }
 },
 "nbformat": 4,
 "nbformat_minor": 0
}